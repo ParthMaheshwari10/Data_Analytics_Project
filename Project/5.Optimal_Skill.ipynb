{
 "cells": [
  {
   "cell_type": "code",
   "execution_count": 12,
   "id": "1bbc183e",
   "metadata": {},
   "outputs": [],
   "source": [
    "import ast\n",
    "import pandas as pd\n",
    "import seaborn as sns\n",
    "from datasets import load_dataset\n",
    "import matplotlib.pyplot as plt\n",
    "from adjustText import adjust_text\n",
    "\n",
    "#Loading the dataset\n",
    "dataset = load_dataset('lukebarousse/data_jobs')\n",
    "df = dataset['train'].to_pandas()\n",
    "\n",
    "#Data Cleanup\n",
    "df['job_posted_date'] = pd.to_datetime(df['job_posted_date'])\n",
    "df['job_skills'] = df['job_skills'].apply(lambda skill_list: ast.literal_eval(skill_list) if isinstance(skill_list, str) else skill_list)"
   ]
  },
  {
   "cell_type": "code",
   "execution_count": 3,
   "id": "c0c22820",
   "metadata": {},
   "outputs": [
    {
     "data": {
      "text/html": [
       "<div>\n",
       "<style scoped>\n",
       "    .dataframe tbody tr th:only-of-type {\n",
       "        vertical-align: middle;\n",
       "    }\n",
       "\n",
       "    .dataframe tbody tr th {\n",
       "        vertical-align: top;\n",
       "    }\n",
       "\n",
       "    .dataframe thead th {\n",
       "        text-align: right;\n",
       "    }\n",
       "</style>\n",
       "<table border=\"1\" class=\"dataframe\">\n",
       "  <thead>\n",
       "    <tr style=\"text-align: right;\">\n",
       "      <th></th>\n",
       "      <th>salary_year_avg</th>\n",
       "      <th>job_skills</th>\n",
       "    </tr>\n",
       "  </thead>\n",
       "  <tbody>\n",
       "    <tr>\n",
       "      <th>29583</th>\n",
       "      <td>119250.0</td>\n",
       "      <td>sql</td>\n",
       "    </tr>\n",
       "    <tr>\n",
       "      <th>29583</th>\n",
       "      <td>119250.0</td>\n",
       "      <td>visio</td>\n",
       "    </tr>\n",
       "    <tr>\n",
       "      <th>29583</th>\n",
       "      <td>119250.0</td>\n",
       "      <td>excel</td>\n",
       "    </tr>\n",
       "    <tr>\n",
       "      <th>29583</th>\n",
       "      <td>119250.0</td>\n",
       "      <td>jira</td>\n",
       "    </tr>\n",
       "    <tr>\n",
       "      <th>29583</th>\n",
       "      <td>119250.0</td>\n",
       "      <td>confluence</td>\n",
       "    </tr>\n",
       "  </tbody>\n",
       "</table>\n",
       "</div>"
      ],
      "text/plain": [
       "       salary_year_avg  job_skills\n",
       "29583         119250.0         sql\n",
       "29583         119250.0       visio\n",
       "29583         119250.0       excel\n",
       "29583         119250.0        jira\n",
       "29583         119250.0  confluence"
      ]
     },
     "execution_count": 3,
     "metadata": {},
     "output_type": "execute_result"
    }
   ],
   "source": [
    "df_DA_IN = df[(df['job_title_short'] == 'Data Analyst') & (df['job_location'] == 'India')].copy()\n",
    "df_DA_IN = df_DA_IN.dropna(subset=['salary_year_avg'])\n",
    "df_DA_IN_exploded = df_DA_IN.explode('job_skills')\n",
    "df_DA_IN_exploded[['salary_year_avg', 'job_skills']].head()\n"
   ]
  },
  {
   "cell_type": "code",
   "execution_count": 15,
   "id": "fa7c5005",
   "metadata": {},
   "outputs": [
    {
     "data": {
      "text/html": [
       "<div>\n",
       "<style scoped>\n",
       "    .dataframe tbody tr th:only-of-type {\n",
       "        vertical-align: middle;\n",
       "    }\n",
       "\n",
       "    .dataframe tbody tr th {\n",
       "        vertical-align: top;\n",
       "    }\n",
       "\n",
       "    .dataframe thead th {\n",
       "        text-align: right;\n",
       "    }\n",
       "</style>\n",
       "<table border=\"1\" class=\"dataframe\">\n",
       "  <thead>\n",
       "    <tr style=\"text-align: right;\">\n",
       "      <th></th>\n",
       "      <th>skill_count</th>\n",
       "      <th>median_salary</th>\n",
       "      <th>skill_percent</th>\n",
       "    </tr>\n",
       "    <tr>\n",
       "      <th>job_skills</th>\n",
       "      <th></th>\n",
       "      <th></th>\n",
       "      <th></th>\n",
       "    </tr>\n",
       "  </thead>\n",
       "  <tbody>\n",
       "    <tr>\n",
       "      <th>sql</th>\n",
       "      <td>9</td>\n",
       "      <td>79200.00</td>\n",
       "      <td>64.285714</td>\n",
       "    </tr>\n",
       "    <tr>\n",
       "      <th>excel</th>\n",
       "      <td>8</td>\n",
       "      <td>82092.75</td>\n",
       "      <td>57.142857</td>\n",
       "    </tr>\n",
       "    <tr>\n",
       "      <th>python</th>\n",
       "      <td>6</td>\n",
       "      <td>75400.00</td>\n",
       "      <td>42.857143</td>\n",
       "    </tr>\n",
       "    <tr>\n",
       "      <th>r</th>\n",
       "      <td>3</td>\n",
       "      <td>71600.00</td>\n",
       "      <td>21.428571</td>\n",
       "    </tr>\n",
       "    <tr>\n",
       "      <th>tableau</th>\n",
       "      <td>3</td>\n",
       "      <td>79200.00</td>\n",
       "      <td>21.428571</td>\n",
       "    </tr>\n",
       "    <tr>\n",
       "      <th>word</th>\n",
       "      <td>3</td>\n",
       "      <td>89118.00</td>\n",
       "      <td>21.428571</td>\n",
       "    </tr>\n",
       "    <tr>\n",
       "      <th>flow</th>\n",
       "      <td>2</td>\n",
       "      <td>96603.75</td>\n",
       "      <td>14.285714</td>\n",
       "    </tr>\n",
       "  </tbody>\n",
       "</table>\n",
       "</div>"
      ],
      "text/plain": [
       "            skill_count  median_salary  skill_percent\n",
       "job_skills                                           \n",
       "sql                   9       79200.00      64.285714\n",
       "excel                 8       82092.75      57.142857\n",
       "python                6       75400.00      42.857143\n",
       "r                     3       71600.00      21.428571\n",
       "tableau               3       79200.00      21.428571\n",
       "word                  3       89118.00      21.428571\n",
       "flow                  2       96603.75      14.285714"
      ]
     },
     "execution_count": 15,
     "metadata": {},
     "output_type": "execute_result"
    }
   ],
   "source": [
    "df_DA_skills = df_DA_IN_exploded.groupby('job_skills')['salary_year_avg'].agg(['count', 'median']).sort_values(by='count', ascending=False)\n",
    "df_DA_skills = df_DA_skills.rename(columns={'count': 'skill_count', 'median': 'median_salary'})\n",
    "\n",
    "DA_job_count = len(df_DA_IN)\n",
    "df_DA_skills['skill_percent'] = (df_DA_skills['skill_count'] / DA_job_count) * 100\n",
    "\n",
    "df_DA_skills_high_demand = df_DA_skills.head(7).copy()\n",
    "df_DA_skills_high_demand"
   ]
  },
  {
   "cell_type": "code",
   "execution_count": 16,
   "id": "a3808820",
   "metadata": {},
   "outputs": [
    {
     "data": {
      "image/png": "[encoded data removed]",
      "text/plain": [
       "<Figure size 640x480 with 1 Axes>"
      ]
     },
     "metadata": {},
     "output_type": "display_data"
    }
   ],
   "source": [
    "df_DA_skills_high_demand.plot(kind='scatter', x='skill_percent', y='median_salary')\n",
    "plt.title('Most optimal skills for Data Analysts in India')\n",
    "plt.xlabel('Percent of Data Analyst Jobs')\n",
    "plt.ylabel('Median Yearly Salary ($)')\n",
    "plt.tight_layout()\n",
    "\n",
    "texts = []\n",
    "\n",
    "for i, txt in enumerate(df_DA_skills_high_demand.index):\n",
    "    texts.append(plt.text(df_DA_skills_high_demand['skill_percent'].iloc[i], df_DA_skills_high_demand['median_salary'].iloc[i], txt, fontsize=10))\n",
    "\n",
    "adjust_text(texts, arrowprops=dict(arrowstyle='->', color='black', lw=1))\n",
    "\n",
    "ax = plt.gca()\n",
    "ax.yaxis.set_major_formatter(plt.FuncFormatter(lambda y, pos: f'${int(y/1000)}K'))\n",
    "\n",
    "plt.show()"
   ]
  }
 ],
 "metadata": {
  "kernelspec": {
   "display_name": "Python_Course",
   "language": "python",
   "name": "python3"
  },
  "language_info": {
   "codemirror_mode": {
    "name": "ipython",
    "version": 3
   },
   "file_extension": ".py",
   "mimetype": "text/x-python",
   "name": "python",
   "nbconvert_exporter": "python",
   "pygments_lexer": "ipython3",
   "version": "3.12.9"
  }
 },
 "nbformat": 4,
 "nbformat_minor": 5
}
